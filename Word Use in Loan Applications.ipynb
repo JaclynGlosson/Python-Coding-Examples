{
 "cells": [
  {
   "cell_type": "markdown",
   "metadata": {},
   "source": [
    "First, I read in the [Lending Club Loan Dataset](https://www.kaggle.com/wordsforthewise/lending-club).\n",
    "I separately return the header as a list of strings from the loan data."
   ]
  },
  {
   "cell_type": "code",
   "execution_count": 3,
   "metadata": {},
   "outputs": [
    {
     "name": "stdout",
     "output_type": "stream",
     "text": [
      "loan status:  Current\n"
     ]
    },
    {
     "data": {
      "text/plain": [
       "[('id', ''),\n",
       " ('member_id', ''),\n",
       " ('loan_amnt', '2500'),\n",
       " ('funded_amnt', '2500'),\n",
       " ('funded_amnt_inv', '2500'),\n",
       " ('term', '36 months'),\n",
       " ('int_rate', '13.56'),\n",
       " ('installment', '84.92'),\n",
       " ('grade', 'C'),\n",
       " ('sub_grade', 'C1'),\n",
       " ('emp_title', 'Chef'),\n",
       " ('emp_length', '10+ years'),\n",
       " ('home_ownership', 'RENT'),\n",
       " ('annual_inc', '55000'),\n",
       " ('verification_status', 'Not Verified'),\n",
       " ('issue_d', 'Dec-2018'),\n",
       " ('loan_status', 'Current'),\n",
       " ('pymnt_plan', 'n'),\n",
       " ('url', ''),\n",
       " ('desc', ''),\n",
       " ('purpose', 'debt_consolidation'),\n",
       " ('title', 'Debt consolidation'),\n",
       " ('zip_code', '109xx'),\n",
       " ('addr_state', 'NY'),\n",
       " ('dti', '18.24')]"
      ]
     },
     "execution_count": 3,
     "metadata": {},
     "output_type": "execute_result"
    }
   ],
   "source": [
    "import csv\n",
    "\n",
    "def read_loans(file_path):\n",
    "    loan_reader = csv.reader(open(file_path, \"r\"))\n",
    "    x = list(loan_reader)\n",
    "    header = x[0]\n",
    "    loan_data = x[1:]   \n",
    "    return header, loan_data\n",
    "\n",
    "header, loan_data = read_loans('data/loan_extra-small.csv')\n",
    "\n",
    "print(\"loan status: \", loan_data[0][header.index(\"loan_status\")])\n",
    "list(zip(header,loan_data[0]))[:25]"
   ]
  },
  {
   "cell_type": "markdown",
   "metadata": {},
   "source": [
    "Next, I tokenize each loan description and count the words for each. Loans that are \"Current\" or \"Fully Paid\" are categorized as 'good', while loans that are \"Charged Off\" or \"Late\" are categorized as 'bad'."
   ]
  },
  {
   "cell_type": "code",
   "execution_count": 4,
   "metadata": {},
   "outputs": [
    {
     "name": "stdout",
     "output_type": "stream",
     "text": [
      "The top 25 'good/bad'-loan words are: \n",
      "1  (good, bad):  ('>', 102166) ('>', 18838)\n",
      "2  (good, bad):  ('on', 55911) ('<', 10153)\n",
      "3  (good, bad):  ('<', 54586) ('br', 10153)\n",
      "4  (good, bad):  ('br', 54585) ('on', 10089)\n",
      "5  (good, bad):  ('to', 50785) ('to', 8819)\n",
      "6  (good, bad):  ('added', 47661) ('added', 8702)\n",
      "7  (good, bad):  ('Borrower', 47584) ('Borrower', 8685)\n",
      "8  (good, bad):  ('I', 39943) ('I', 6778)\n",
      "9  (good, bad):  ('and', 31902) ('and', 5873)\n",
      "10  (good, bad):  ('.', 30952) ('my', 5176)\n",
      "11  (good, bad):  ('credit', 28660) ('.', 4902)\n",
      "12  (good, bad):  ('my', 27339) ('credit', 4844)\n",
      "13  (good, bad):  ('a', 25077) ('a', 3856)\n",
      "14  (good, bad):  ('the', 19275) ('pay', 3538)\n",
      "15  (good, bad):  ('pay', 19037) ('off', 3274)\n",
      "16  (good, bad):  ('off', 18624) ('loan', 2992)\n",
      "17  (good, bad):  ('loan', 18028) ('the', 2860)\n",
      "18  (good, bad):  ('debt', 17377) ('debt', 2801)\n",
      "19  (good, bad):  (',', 16079) (',', 2636)\n",
      "20  (good, bad):  ('of', 14980) ('of', 2613)\n",
      "21  (good, bad):  ('cards', 14459) ('cards', 2593)\n",
      "22  (good, bad):  ('for', 13588) ('for', 2340)\n",
      "23  (good, bad):  ('have', 13222) ('have', 2330)\n",
      "24  (good, bad):  ('interest', 12357) ('card', 1861)\n",
      "25  (good, bad):  ('card', 12345) ('consolidate', 1722)\n"
     ]
    }
   ],
   "source": [
    "from nltk.tokenize import word_tokenize\n",
    "from collections import Counter, defaultdict\n",
    "\n",
    "def count_desc_words(loan_data, header):\n",
    "    counts = defaultdict(Counter)\n",
    "    goodloans = []\n",
    "    badloans = []\n",
    "    flat = []\n",
    "    badflat = []\n",
    "    goodc = {}\n",
    "    badc = {}\n",
    "    \n",
    "    for row in loan_data:\n",
    "        if row[16] == \"Current\" or row[16] == \"Fully Paid\":\n",
    "            goodloans.append(word_tokenize(row[19]))\n",
    "    for i in goodloans:\n",
    "        for j in i:\n",
    "            flat.append(j)\n",
    "\n",
    "    for row in loan_data:\n",
    "        if row[16] == \"Charged Off\" or row[16] == \"Late (31-120 days)\" or row[16] == \"Late (16-30 days)\":\n",
    "            badloans.append(word_tokenize(row[19]))\n",
    "    for i in badloans:\n",
    "        for j in i:\n",
    "            badflat.append(j)\n",
    "\n",
    "    counts[0] = Counter(badflat)\n",
    "    counts[1] = Counter(flat) \n",
    "\n",
    "    return counts\n",
    "\n",
    "counts = count_desc_words(loan_data, header)\n",
    "print('The top 25 \\'good/bad\\'-loan words are: ')\n",
    "for good_word, bad_word, i in zip(counts[1].most_common(25), \n",
    "                                  counts[0].most_common(25),\n",
    "                                  range(25)):\n",
    "    print(i+1,\" (good, bad): \", \n",
    "          good_word, bad_word)\n"
   ]
  },
  {
   "cell_type": "markdown",
   "metadata": {},
   "source": [
    "Looking at the top 25 words for the good and bad categories, I observe there appear to be more similarlties in word use than differences.\n",
    "\n",
    "Given these similarlties, I want to determine which words are exclusively used by each category of loan. In other words, I will remove the set of words in \"good\" that are used in \"bad\", and remove the set of words in \"bad\" that are used in \"good\""
   ]
  },
  {
   "cell_type": "code",
   "execution_count": 5,
   "metadata": {},
   "outputs": [
    {
     "data": {
      "text/plain": [
       "(['rate', '!', 'it', 'lower'], ['bills', 'consolidation', 'need', 'help'])"
      ]
     },
     "execution_count": 5,
     "metadata": {},
     "output_type": "execute_result"
    }
   ],
   "source": [
    "def get_set_differences(counts, top_n):\n",
    "\n",
    "    good_notin_bad, bad_notin_good = set(), set()\n",
    "    \n",
    "    badwords = []\n",
    "    goodwords = []\n",
    "    bad = []\n",
    "    good = []\n",
    "    \n",
    "    for good_word, bad_word, i in zip(counts[1].most_common(50), \n",
    "                                      counts[0].most_common(50),\n",
    "                                      range(50)):\n",
    "        goodwords.append(good_word[0])\n",
    "        badwords.append(bad_word[0])\n",
    "\n",
    "    for word in badwords:\n",
    "        if word not in goodwords:\n",
    "            bad.append(word)  \n",
    "\n",
    "    for word in goodwords:\n",
    "        if word not in badwords:\n",
    "            good.append(word)\n",
    "            \n",
    "    good_notin_bad= good\n",
    "    bad_notin_good = bad\n",
    "    return good_notin_bad, bad_notin_good\n",
    "\n",
    "good_notin_bad, bad_notin_good = get_set_differences(counts, 50)\n",
    "good_notin_bad, bad_notin_good"
   ]
  },
  {
   "cell_type": "markdown",
   "metadata": {},
   "source": [
    "Based on this output, I can see that words with negative semantic associations are used more frequently in \"bad\" loans than in good."
   ]
  }
 ],
 "metadata": {
  "kernelspec": {
   "display_name": "Python 3",
   "language": "python",
   "name": "python3"
  },
  "language_info": {
   "codemirror_mode": {
    "name": "ipython",
    "version": 3
   },
   "file_extension": ".py",
   "mimetype": "text/x-python",
   "name": "python",
   "nbconvert_exporter": "python",
   "pygments_lexer": "ipython3",
   "version": "3.8.8"
  }
 },
 "nbformat": 4,
 "nbformat_minor": 4
}
