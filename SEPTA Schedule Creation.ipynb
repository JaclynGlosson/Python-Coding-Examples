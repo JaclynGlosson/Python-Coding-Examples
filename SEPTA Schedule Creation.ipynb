{
 "cells": [
  {
   "cell_type": "markdown",
   "metadata": {},
   "source": [
    "The goal of this exercise was to access real-time train information to create a schedule display for SEPTA's Suburban Station.API acess documentation is found [here](http://www3.septa.org/hackathon/)"
   ]
  },
  {
   "cell_type": "code",
   "execution_count": 1,
   "metadata": {},
   "outputs": [
    {
     "data": {
      "text/plain": [
       "(datetime.datetime(2021, 11, 12, 12, 19, 41, 487538),\n",
       " [[\"EMG=' No Emg Message\"],\n",
       "  ['R4S=12:25',\n",
       "   'Airport',\n",
       "   '3B',\n",
       "   'ON TIME',\n",
       "   'LOCAL                    ',\n",
       "   '433   ',\n",
       "   '<_NEXT_MSG>12:55',\n",
       "   'Airport',\n",
       "   '3B',\n",
       "   'ON TIME',\n",
       "   'LOCAL                    ',\n",
       "   '8435  ',\n",
       "   '<_NEXT_MSG>01:25',\n",
       "   'Airport',\n",
       "   '3B',\n",
       "   'ON TIME',\n",
       "   'LOCAL                    ',\n",
       "   '437   ',\n",
       "   '<_NEXT_MSG>01:55',\n",
       "   'Airport',\n",
       "   '3B',\n",
       "   'ON TIME',\n",
       "   'LOCAL                    ',\n",
       "   '8439  ',\n",
       "   ''],\n",
       "  ['R4N=01:05',\n",
       "   'Warminster',\n",
       "   '2A',\n",
       "   'ON TIME',\n",
       "   'LOCAL                    ',\n",
       "   '432   ',\n",
       "   '<_NEXT_MSG>02:05',\n",
       "   'Warminster',\n",
       "   '2A',\n",
       "   'ON TIME',\n",
       "   'LOCAL                    ',\n",
       "   '436   ',\n",
       "   '<_NEXT_MSG>03:05',\n",
       "   'Warminster',\n",
       "   '2A',\n",
       "   'ON TIME',\n",
       "   'LOCAL                    ',\n",
       "   '440   ',\n",
       "   '<_NEXT_MSG>04:05',\n",
       "   'Warminster',\n",
       "   '2A',\n",
       "   'ON TIME',\n",
       "   'LOCAL                    ',\n",
       "   '444   ',\n",
       "   '']],\n",
       " '...',\n",
       " [['SERVICE=Effective Sunday September 5 new schedules will be in effect for most lines. See SEPTA.org for more information'],\n",
       "  ['TIMESTAMP=11/12/2021 12:19:27 PM']])"
      ]
     },
     "execution_count": 1,
     "metadata": {},
     "output_type": "execute_result"
    }
   ],
   "source": [
    "import re, requests, csv\n",
    "from pprint import pprint\n",
    "from datetime import datetime as dt\n",
    "\n",
    "def get_current_schedule(station_code = '30th'):\n",
    "    \n",
    "    schedule_url = \"http://www3.septa.org/ccstations/\"+station_code+\"/sched_data.csv\"\n",
    "    access_time = dt.now()\n",
    "    response = requests.get(schedule_url)\n",
    "        \n",
    "    return list(csv.reader(response.text.strip().split(\"\\n\"))), access_time\n",
    "\n",
    "schedule, access_time = get_current_schedule(station_code = \"ss\")\n",
    "access_time, schedule[0:3], \"...\", schedule[-2:]"
   ]
  },
  {
   "cell_type": "markdown",
   "metadata": {},
   "source": [
    "As you can see, there is not a single column devoted to _all_ of each type of data, e.g., a single timestamps column."
   ]
  },
  {
   "cell_type": "markdown",
   "metadata": {},
   "source": [
    "Next, I pre-process the data into a three-column format, as a list (rows) of lists (columns). I extract three pieces of information for each train: its scheduled arrival time, destination, and its lateness/timeliness status. "
   ]
  },
  {
   "cell_type": "code",
   "execution_count": 2,
   "metadata": {},
   "outputs": [
    {
     "data": {
      "text/plain": [
       "[['12:25', 'Airport', 'ON TIME'],\n",
       " ['12:55', 'Airport', 'ON TIME'],\n",
       " ['01:25', 'Airport', 'ON TIME'],\n",
       " ['01:55', 'Airport', 'ON TIME'],\n",
       " ['01:05', 'Warminster', 'ON TIME'],\n",
       " ['02:05', 'Warminster', 'ON TIME'],\n",
       " ['03:05', 'Warminster', 'ON TIME'],\n",
       " ['04:05', 'Warminster', 'ON TIME'],\n",
       " ['12:35', 'Wilmington', ' 3 LATE'],\n",
       " ['01:09', '30th St', ' 1 LATE']]"
      ]
     },
     "execution_count": 2,
     "metadata": {},
     "output_type": "execute_result"
    }
   ],
   "source": [
    "def get_trains(schedule):\n",
    "    trains = []\n",
    "    \n",
    "    for l in schedule[1:16]:\n",
    "        ftrains = []\n",
    "        #break up each list into four parts: first part\n",
    "        first = l[:6]\n",
    "        if len(first) > 3:\n",
    "            ftrains.append((first[0])[-5:])\n",
    "            ftrains.append(first[1])\n",
    "            ftrains.append(first[3])\n",
    "            trains.append(ftrains)\n",
    "\n",
    "        #break up each list into four parts: second part\n",
    "        second = l[6:12]\n",
    "        if len(second) > 3:\n",
    "            strains = []\n",
    "            strains.append((second[0])[-5:])\n",
    "            strains.append(second[1])\n",
    "            strains.append(second[3])\n",
    "            trains.append(strains)\n",
    "\n",
    "        #break up each list into four parts: third part\n",
    "        third = l[12:18]\n",
    "        if len(third) > 3:\n",
    "            ttrains = []\n",
    "            ttrains.append((third[0])[-5:])\n",
    "            ttrains.append(third[1])\n",
    "            ttrains.append(third[3])\n",
    "            trains.append(ttrains)\n",
    "\n",
    "        #break up each list into four parts: fourth part\n",
    "        fourth = l[18:24]\n",
    "        #data error in API acquisition: one error from SEPTA sayint limited service for suberban station resulted\n",
    "        #in a list with only 2 values, throwing off the code. The below if statement prevents these error messages\n",
    "        #from being read in.\n",
    "        if len(fourth) > 3:\n",
    "            #print(fourth)\n",
    "        #print(fourth)\n",
    "            fourtrains = []\n",
    "            fourtrains.append((fourth[0])[-5:])\n",
    "            fourtrains.append(fourth[1])\n",
    "            fourtrains.append(fourth[3])\n",
    "            trains.append(fourtrains)         \n",
    "                    \n",
    "    return trains\n",
    "\n",
    "trains = get_trains(schedule)\n",
    "trains[:10]"
   ]
  },
  {
   "cell_type": "markdown",
   "metadata": {},
   "source": [
    "The format uses 12 hour time, which will be an issue that needs correcting later on."
   ]
  },
  {
   "cell_type": "markdown",
   "metadata": {},
   "source": [
    "Next I parse the timestamp column using the `dateutil.parser` module-function. I then output the three values as a new list and sort according to arrival time."
   ]
  },
  {
   "cell_type": "code",
   "execution_count": 3,
   "metadata": {},
   "outputs": [
    {
     "data": {
      "text/plain": [
       "[[datetime.datetime(2021, 11, 12, 1, 5), 'Warminster', 'ON TIME'],\n",
       " [datetime.datetime(2021, 11, 12, 1, 9), '30th St', ' 1 LATE'],\n",
       " [datetime.datetime(2021, 11, 12, 1, 9), 'Doylestown', 'ON TIME'],\n",
       " [datetime.datetime(2021, 11, 12, 1, 21), 'West Trenton', 'ON TIME'],\n",
       " [datetime.datetime(2021, 11, 12, 1, 25), 'Airport', 'ON TIME'],\n",
       " [datetime.datetime(2021, 11, 12, 1, 28), '30th St', 'ON TIME'],\n",
       " [datetime.datetime(2021, 11, 12, 1, 35), 'Wilmington', 'ON TIME'],\n",
       " [datetime.datetime(2021, 11, 12, 1, 35), 'Fox Chase', 'ON TIME'],\n",
       " [datetime.datetime(2021, 11, 12, 1, 40), 'Trenton', 'ON TIME'],\n",
       " [datetime.datetime(2021, 11, 12, 1, 47), 'Temple U', 'ON TIME']]"
      ]
     },
     "execution_count": 3,
     "metadata": {},
     "output_type": "execute_result"
    }
   ],
   "source": [
    "from dateutil import parser as dateparser\n",
    "today= (str(access_time))[:10]\n",
    "\n",
    "def parse_times(trains):\n",
    "    \n",
    "    datetime_parsed_trains = []\n",
    "\n",
    "    for line in trains:\n",
    "        innerlist = []\n",
    "        date_time = today + ' ' + line[0]\n",
    "        innerlist.append(dateparser.parse(date_time))\n",
    "        innerlist.append(line[1])\n",
    "        innerlist.append(line[2])\n",
    "        datetime_parsed_trains.append(innerlist)\n",
    "    \n",
    "    return sorted(datetime_parsed_trains, key = lambda x: x[0])\n",
    "\n",
    "datetime_parsed_trains = parse_times(trains)\n",
    "datetime_parsed_trains[:10]"
   ]
  },
  {
   "cell_type": "markdown",
   "metadata": {},
   "source": [
    "As mentioned before, the arrival times lack AM and PM information, which is problematic for the `dateutils.parser`, as it will treat the 12-hour format timestrings as 24-hour format timestrings. \n",
    "\n",
    "To solve this problem, I will 'fix' the original timestamps and use the `datetime` module to infer AM/PM information. I will use the current system time and the fact that the schedule information only contains trains arriving in the next few hours to fix the AM/PM problem."
   ]
  },
  {
   "cell_type": "code",
   "execution_count": 4,
   "metadata": {},
   "outputs": [
    {
     "data": {
      "text/plain": [
       "[[datetime.datetime(2021, 11, 12, 12, 21), 'West Trenton', ' 2 LATE'],\n",
       " [datetime.datetime(2021, 11, 12, 12, 21), 'West Trenton', ' 2 LATE'],\n",
       " [datetime.datetime(2021, 11, 12, 12, 25), 'Airport', 'ON TIME'],\n",
       " [datetime.datetime(2021, 11, 12, 12, 25), 'Airport', 'ON TIME'],\n",
       " [datetime.datetime(2021, 11, 12, 12, 28), '30th St', ' 7 LATE'],\n",
       " [datetime.datetime(2021, 11, 12, 12, 28), '30th St', ' 7 LATE'],\n",
       " [datetime.datetime(2021, 11, 12, 12, 35), 'Wilmington', ' 3 LATE'],\n",
       " [datetime.datetime(2021, 11, 12, 12, 35), 'Trenton', ' 2 LATE'],\n",
       " [datetime.datetime(2021, 11, 12, 12, 35), 'Fox Chase', 'ON TIME'],\n",
       " [datetime.datetime(2021, 11, 12, 12, 35), 'Fox Chase', 'ON TIME']]"
      ]
     },
     "execution_count": 4,
     "metadata": {},
     "output_type": "execute_result"
    }
   ],
   "source": [
    "def fix_times(trains, access_time):\n",
    "\n",
    "    trains_24_hour = []\n",
    "    access_hour = access_time.hour if access_time.hour else 12 ## 'fix' zero times\n",
    "    if access_hour >= 12: ## now is PM\n",
    "        access_hour -= 12\n",
    "        current_am_or_pm = [\"PM\", \"AM\"]\n",
    "    else: ## now is AM\n",
    "        current_am_or_pm = [\"AM\", \"PM\"]\n",
    "    access_date = access_time.strftime(\"%m/%d/%Y\")\n",
    "    \n",
    "    for train in trains:\n",
    "\n",
    "        innerlist = []\n",
    "        hour = int(train[0][0:2]) #get the hour of each train arrival\n",
    "        if hour < access_hour:\n",
    "            newtime = train[0] + current_am_or_pm[1] #add AM if the time is less than access time\n",
    "        else:\n",
    "            newtime = train[0] + current_am_or_pm[0] #add PM if the time is not less than access time.\n",
    "        innerlist.append(newtime)\n",
    "        innerlist.append(train[1])\n",
    "        innerlist.append(train[2])\n",
    "        trains_24_hour.append(innerlist)\n",
    "               \n",
    "    return trains_24_hour\n",
    "\n",
    "datetime_parsed_trains_24_hour = parse_times(fix_times(trains, access_time))\n",
    "datetime_parsed_trains_24_hour[:10]"
   ]
  },
  {
   "cell_type": "markdown",
   "metadata": {},
   "source": [
    "Finally, I  create hourly log files with train information in my data/trains folder, and name it with the time stamp."
   ]
  },
  {
   "cell_type": "code",
   "execution_count": 123,
   "metadata": {},
   "outputs": [],
   "source": [
    "import os\n",
    "hour = []\n",
    "uniquehours = []\n",
    "trainhour = []\n",
    "\n",
    "def save_schedule(datetime_parsed_trains_24_hour):\n",
    "    \n",
    "    os.system(\"mkdir -p data/trains/\")\n",
    "    \n",
    "    #get the set of unique hours\n",
    "for train in datetime_parsed_trains_24_hour:\n",
    "    timestamp = str(train[0])\n",
    "    hour.append(timestamp[11:13])\n",
    "    uniquehours = set(hour)\n",
    "\n",
    "    #overwrite file path to an empty file, then close it\n",
    "for hour in uniquehours:\n",
    "    filename = 'data/trains/2021-09-25-'+ hour + '.txt'\n",
    "    file_handle = 'file_name'+ hour\n",
    "    file_handle = open(filename,\"w\") #concatination must be a string- check?   \n",
    "    file_handle.close() #now close it\n",
    "    \n",
    "    #create the string to put inside each file\n",
    "for train in datetime_parsed_trains_24_hour:\n",
    "    trainhour = str(train[0])[11:13]\n",
    "    hhmm = str(train[0])[11:16]\n",
    "    inside = hhmm + ', ' + train[1] + ', ' + train[2] + '\\n'\n",
    "    \n",
    "    #open the corresponding txt file, append, then close\n",
    "    filename = 'data/trains/2021-09-25-'+ trainhour + '.txt'\n",
    "    file_handle = open(filename, 'a')\n",
    "    file_handle.write(inside)\n",
    "    file_handle.close()\n",
    "    \n",
    "save_schedule(datetime_parsed_trains_24_hour)\n",
    "[x for x in os.listdir(\"data/trains/\") \n",
    " if re.search(datetime_parsed_trains_24_hour[0][0].strftime(\"%Y-%m-%d-\\d\\d.txt\"), x)]"
   ]
  }
 ],
 "metadata": {
  "kernelspec": {
   "display_name": "Python 3",
   "language": "python",
   "name": "python3"
  },
  "language_info": {
   "codemirror_mode": {
    "name": "ipython",
    "version": 3
   },
   "file_extension": ".py",
   "mimetype": "text/x-python",
   "name": "python",
   "nbconvert_exporter": "python",
   "pygments_lexer": "ipython3",
   "version": "3.8.8"
  }
 },
 "nbformat": 4,
 "nbformat_minor": 4
}
